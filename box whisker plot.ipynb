{
 "cells": [
  {
   "cell_type": "code",
   "execution_count": 19,
   "metadata": {},
   "outputs": [],
   "source": [
    "import pandas as pd\n",
    "import matplotlib\n",
    "df=pd.read_csv(\"C:\\\\cookiecutter-data-science\\\\Titanic Project\\\\data\\\\rawdata\\\\test.csv\")"
   ]
  },
  {
   "cell_type": "code",
   "execution_count": 20,
   "metadata": {},
   "outputs": [
    {
     "name": "stdout",
     "output_type": "stream",
     "text": [
      "   PassengerId  Pclass                                          Name     Sex  \\\n",
      "0          892       3                              Kelly, Mr. James    male   \n",
      "1          893       3              Wilkes, Mrs. James (Ellen Needs)  female   \n",
      "2          894       2                     Myles, Mr. Thomas Francis    male   \n",
      "3          895       3                              Wirz, Mr. Albert    male   \n",
      "4          896       3  Hirvonen, Mrs. Alexander (Helga E Lindqvist)  female   \n",
      "5          897       3                    Svensson, Mr. Johan Cervin    male   \n",
      "6          898       3                          Connolly, Miss. Kate  female   \n",
      "7          899       2                  Caldwell, Mr. Albert Francis    male   \n",
      "8          900       3     Abrahim, Mrs. Joseph (Sophie Halaut Easu)  female   \n",
      "9          901       3                       Davies, Mr. John Samuel    male   \n",
      "\n",
      "    Age  SibSp  Parch     Ticket     Fare Cabin Embarked  \n",
      "0  34.5      0      0     330911   7.8292   NaN        Q  \n",
      "1  47.0      1      0     363272   7.0000   NaN        S  \n",
      "2  62.0      0      0     240276   9.6875   NaN        Q  \n",
      "3  27.0      0      0     315154   8.6625   NaN        S  \n",
      "4  22.0      1      1    3101298  12.2875   NaN        S  \n",
      "5  14.0      0      0       7538   9.2250   NaN        S  \n",
      "6  30.0      0      0     330972   7.6292   NaN        Q  \n",
      "7  26.0      1      1     248738  29.0000   NaN        S  \n",
      "8  18.0      0      0       2657   7.2292   NaN        C  \n",
      "9  21.0      2      0  A/4 48871  24.1500   NaN        S  \n"
     ]
    }
   ],
   "source": [
    "print(df.head(10))"
   ]
  },
  {
   "cell_type": "code",
   "execution_count": 21,
   "metadata": {},
   "outputs": [
    {
     "data": {
      "text/plain": [
       "<matplotlib.axes._subplots.AxesSubplot at 0x1d60f015550>"
      ]
     },
     "execution_count": 21,
     "metadata": {},
     "output_type": "execute_result"
    },
    {
     "data": {
      "image/png": "[encoded data removed]",
      "text/plain": [
       "<Figure size 432x288 with 1 Axes>"
      ]
     },
     "metadata": {
      "needs_background": "light"
     },
     "output_type": "display_data"
    }
   ],
   "source": [
    "df.Age.plot(kind='box')"
   ]
  },
  {
   "cell_type": "code",
   "execution_count": 22,
   "metadata": {},
   "outputs": [
    {
     "data": {
      "text/plain": [
       "<matplotlib.axes._subplots.AxesSubplot at 0x1d6100f6cf8>"
      ]
     },
     "execution_count": 22,
     "metadata": {},
     "output_type": "execute_result"
    },
    {
     "data": {
      "image/png": "[encoded data removed]",
      "text/plain": [
       "<Figure size 432x288 with 1 Axes>"
      ]
     },
     "metadata": {
      "needs_background": "light"
     },
     "output_type": "display_data"
    }
   ],
   "source": [
    "df.Fare.plot(kind='box')"
   ]
  },
  {
   "cell_type": "code",
   "execution_count": null,
   "metadata": {},
   "outputs": [],
   "source": []
  },
  {
   "cell_type": "code",
   "execution_count": null,
   "metadata": {},
   "outputs": [],
   "source": []
  },
  {
   "cell_type": "code",
   "execution_count": null,
   "metadata": {},
   "outputs": [],
   "source": []
  }
 ],
 "metadata": {
  "kernelspec": {
   "display_name": "Python 3",
   "language": "python",
   "name": "python3"
  },
  "language_info": {
   "codemirror_mode": {
    "name": "ipython",
    "version": 3
   },
   "file_extension": ".py",
   "mimetype": "text/x-python",
   "name": "python",
   "nbconvert_exporter": "python",
   "pygments_lexer": "ipython3",
   "version": "3.7.3"
  }
 },
 "nbformat": 4,
 "nbformat_minor": 2
}
