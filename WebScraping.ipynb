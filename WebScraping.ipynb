{
 "cells": [
  {
   "cell_type": "code",
   "execution_count": 39,
   "metadata": {},
   "outputs": [],
   "source": [
    "#import\n",
    "import requests\n",
    "from bs4 import BeautifulSoup"
   ]
  },
  {
   "cell_type": "code",
   "execution_count": 40,
   "metadata": {},
   "outputs": [],
   "source": [
    "#Creating an html string\n",
    "htmlstring=\"\"\"\n",
    "<!DOCTYPE html>\n",
    "<html>\n",
    "<body>\n",
    "\n",
    "<h1>My First Heading</h1>\n",
    "\n",
    "<p>My first paragraph.</p>\n",
    "\n",
    "<table style=\"width:100%\">\n",
    "  <tr id=\"row1\">\n",
    "    <th>Firstname</th>\n",
    "    <th>Lastname</th> \n",
    "    <th>Age</th>\n",
    "  </tr>\n",
    "  <tr id=\"row2\">\n",
    "    <td>Michael</td>\n",
    "    <td>Smith</td> \n",
    "    <td>50</td>\n",
    "  </tr>\n",
    "  <tr id=\"row3\">\n",
    "    <td>Eve</td>\n",
    "    <td>Cambage</td> \n",
    "    <td>94</td>\n",
    "  </tr>\n",
    "</table>\n",
    "\n",
    "</body>\n",
    "</html>\n",
    "\"\"\""
   ]
  },
  {
   "cell_type": "code",
   "execution_count": 41,
   "metadata": {},
   "outputs": [
    {
     "data": {
      "text/html": [
       "\n",
       "<!DOCTYPE html>\n",
       "<html>\n",
       "<body>\n",
       "\n",
       "<h1>My First Heading</h1>\n",
       "\n",
       "<p>My first paragraph.</p>\n",
       "\n",
       "<table style=\"width:100%\">\n",
       "  <tr id=\"row1\">\n",
       "    <th>Firstname</th>\n",
       "    <th>Lastname</th> \n",
       "    <th>Age</th>\n",
       "  </tr>\n",
       "  <tr id=\"row2\">\n",
       "    <td>Michael</td>\n",
       "    <td>Smith</td> \n",
       "    <td>50</td>\n",
       "  </tr>\n",
       "  <tr id=\"row3\">\n",
       "    <td>Eve</td>\n",
       "    <td>Cambage</td> \n",
       "    <td>94</td>\n",
       "  </tr>\n",
       "</table>\n",
       "\n",
       "</body>\n",
       "</html>\n"
      ],
      "text/plain": [
       "<IPython.core.display.HTML object>"
      ]
     },
     "metadata": {},
     "output_type": "display_data"
    }
   ],
   "source": [
    "#display the html in jupyter notebook\n",
    "from IPython.core.display import display,HTML\n",
    "display(HTML(htmlstring))"
   ]
  },
  {
   "cell_type": "code",
   "execution_count": 42,
   "metadata": {},
   "outputs": [],
   "source": [
    "#Using Beautiful soup\n",
    "bsexample=BeautifulSoup(htmlstring)"
   ]
  },
  {
   "cell_type": "code",
   "execution_count": 43,
   "metadata": {},
   "outputs": [
    {
     "name": "stdout",
     "output_type": "stream",
     "text": [
      "<!DOCTYPE html>\n",
      "<html>\n",
      "<body>\n",
      "<h1>My First Heading</h1>\n",
      "<p>My first paragraph.</p>\n",
      "<table style=\"width:100%\">\n",
      "<tr id=\"row1\">\n",
      "<th>Firstname</th>\n",
      "<th>Lastname</th>\n",
      "<th>Age</th>\n",
      "</tr>\n",
      "<tr id=\"row2\">\n",
      "<td>Michael</td>\n",
      "<td>Smith</td>\n",
      "<td>50</td>\n",
      "</tr>\n",
      "<tr id=\"row3\">\n",
      "<td>Eve</td>\n",
      "<td>Cambage</td>\n",
      "<td>94</td>\n",
      "</tr>\n",
      "</table>\n",
      "</body>\n",
      "</html>\n",
      "\n"
     ]
    }
   ],
   "source": [
    "print(bsexample)"
   ]
  },
  {
   "cell_type": "code",
   "execution_count": 44,
   "metadata": {},
   "outputs": [],
   "source": [
    "#Extracting the body of an htmL tag\n",
    "body=bsexample.find(name=\"body\")"
   ]
  },
  {
   "cell_type": "code",
   "execution_count": 45,
   "metadata": {},
   "outputs": [
    {
     "name": "stdout",
     "output_type": "stream",
     "text": [
      "<body>\n",
      "<h1>My First Heading</h1>\n",
      "<p>My first paragraph.</p>\n",
      "<table style=\"width:100%\">\n",
      "<tr id=\"row1\">\n",
      "<th>Firstname</th>\n",
      "<th>Lastname</th>\n",
      "<th>Age</th>\n",
      "</tr>\n",
      "<tr id=\"row2\">\n",
      "<td>Michael</td>\n",
      "<td>Smith</td>\n",
      "<td>50</td>\n",
      "</tr>\n",
      "<tr id=\"row3\">\n",
      "<td>Eve</td>\n",
      "<td>Cambage</td>\n",
      "<td>94</td>\n",
      "</tr>\n",
      "</table>\n",
      "</body>\n"
     ]
    }
   ],
   "source": [
    "print(body)"
   ]
  },
  {
   "cell_type": "code",
   "execution_count": 17,
   "metadata": {},
   "outputs": [],
   "source": [
    "#Extracting the paragraph\n",
    "paragraph=bsexample.find(name=\"p\")"
   ]
  },
  {
   "cell_type": "code",
   "execution_count": 18,
   "metadata": {},
   "outputs": [
    {
     "name": "stdout",
     "output_type": "stream",
     "text": [
      "<p>My first paragraph.</p>\n"
     ]
    }
   ],
   "source": [
    "print(paragraph)"
   ]
  },
  {
   "cell_type": "code",
   "execution_count": 20,
   "metadata": {},
   "outputs": [],
   "source": [
    "#Extracting the table\n",
    "table=bsexample.find(name=\"table\")"
   ]
  },
  {
   "cell_type": "code",
   "execution_count": 21,
   "metadata": {},
   "outputs": [
    {
     "name": "stdout",
     "output_type": "stream",
     "text": [
      "<table style=\"width:100%\">\n",
      "<tr>\n",
      "<th>Firstname</th>\n",
      "<th>Lastname</th>\n",
      "<th>Age</th>\n",
      "</tr>\n",
      "<tr>\n",
      "<td>Michael</td>\n",
      "<td>Smith</td>\n",
      "<td>50</td>\n",
      "</tr>\n",
      "<tr>\n",
      "<td>Eve</td>\n",
      "<td>Cambage</td>\n",
      "<td>94</td>\n",
      "</tr>\n",
      "</table>\n"
     ]
    }
   ],
   "source": [
    "print(table)"
   ]
  },
  {
   "cell_type": "code",
   "execution_count": 22,
   "metadata": {},
   "outputs": [],
   "source": [
    "row=bsexample.find(name=\"tr\")"
   ]
  },
  {
   "cell_type": "code",
   "execution_count": 46,
   "metadata": {},
   "outputs": [
    {
     "name": "stdout",
     "output_type": "stream",
     "text": [
      "<tr>\n",
      "<td>Eve</td>\n",
      "<td>Cambage</td>\n",
      "<td>94</td>\n",
      "</tr>\n"
     ]
    }
   ],
   "source": [
    "print(row)"
   ]
  },
  {
   "cell_type": "code",
   "execution_count": 47,
   "metadata": {},
   "outputs": [],
   "source": [
    "#find all values for a tag\n",
    "rows=bsexample.findAll(name=\"tr\")"
   ]
  },
  {
   "cell_type": "code",
   "execution_count": 48,
   "metadata": {},
   "outputs": [
    {
     "name": "stdout",
     "output_type": "stream",
     "text": [
      "[<tr id=\"row1\">\n",
      "<th>Firstname</th>\n",
      "<th>Lastname</th>\n",
      "<th>Age</th>\n",
      "</tr>, <tr id=\"row2\">\n",
      "<td>Michael</td>\n",
      "<td>Smith</td>\n",
      "<td>50</td>\n",
      "</tr>, <tr id=\"row3\">\n",
      "<td>Eve</td>\n",
      "<td>Cambage</td>\n",
      "<td>94</td>\n",
      "</tr>]\n"
     ]
    }
   ],
   "source": [
    "print(rows)"
   ]
  },
  {
   "cell_type": "code",
   "execution_count": 49,
   "metadata": {},
   "outputs": [
    {
     "name": "stdout",
     "output_type": "stream",
     "text": [
      "<tr id=\"row1\">\n",
      "<th>Firstname</th>\n",
      "<th>Lastname</th>\n",
      "<th>Age</th>\n",
      "</tr>\n",
      "<tr id=\"row2\">\n",
      "<td>Michael</td>\n",
      "<td>Smith</td>\n",
      "<td>50</td>\n",
      "</tr>\n",
      "<tr id=\"row3\">\n",
      "<td>Eve</td>\n",
      "<td>Cambage</td>\n",
      "<td>94</td>\n",
      "</tr>\n"
     ]
    }
   ],
   "source": [
    "#loop through rows and print\n",
    "for row in bsexample.findAll(name=\"tr\"):\n",
    "    print(row)"
   ]
  },
  {
   "cell_type": "code",
   "execution_count": 61,
   "metadata": {},
   "outputs": [
    {
     "name": "stdout",
     "output_type": "stream",
     "text": [
      "<tr id=\"row1\">\n",
      "<th>Firstname</th>\n",
      "<th>Lastname</th>\n",
      "<th>Age</th>\n",
      "</tr>\n"
     ]
    }
   ],
   "source": [
    "print(bsexample.find(name=\"tr\", attrs={\"id\":\"row1\"}))"
   ]
  },
  {
   "cell_type": "code",
   "execution_count": 79,
   "metadata": {},
   "outputs": [
    {
     "name": "stdout",
     "output_type": "stream",
     "text": [
      "Michael Smith\n",
      "Eve Cambage\n"
     ]
    }
   ],
   "source": [
    "# a working example\n",
    "body=bsexample.find(name=\"body\")\n",
    "table=body.find(name=\"table\")\n",
    "#print(table)\n",
    "#now we extract data in table\n",
    "for row in table.findAll(name=\"tr\")[1:]:\n",
    "    givenname=row.findAll(name=\"td\")[0].text\n",
    "    familyname=row.findAll(name=\"td\")[1].text\n",
    "    print(givenname,familyname)"
   ]
  },
  {
   "cell_type": "code",
   "execution_count": null,
   "metadata": {},
   "outputs": [],
   "source": []
  }
 ],
 "metadata": {
  "kernelspec": {
   "display_name": "Python 3",
   "language": "python",
   "name": "python3"
  },
  "language_info": {
   "codemirror_mode": {
    "name": "ipython",
    "version": 3
   },
   "file_extension": ".py",
   "mimetype": "text/x-python",
   "name": "python",
   "nbconvert_exporter": "python",
   "pygments_lexer": "ipython3",
   "version": "3.7.3"
  }
 },
 "nbformat": 4,
 "nbformat_minor": 2
}
